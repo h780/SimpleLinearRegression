{
 "cells": [
  {
   "cell_type": "markdown",
   "id": "fb221b5d",
   "metadata": {},
   "source": [
    "# Simple Linear Regression"
   ]
  },
  {
   "cell_type": "code",
   "execution_count": 1,
   "id": "45dfa250",
   "metadata": {},
   "outputs": [],
   "source": [
    "import pandas as pd\n",
    "import numpy as np\n",
    "import matplotlib.pyplot as plt\n",
    "from sklearn.model_selection import train_test_split\n",
    "import statsmodels.api as sm\n",
    "from statsmodels.formula.api import ols"
   ]
  },
  {
   "cell_type": "markdown",
   "id": "e48f374a",
   "metadata": {},
   "source": [
    "# Data Analysis"
   ]
  },
  {
   "cell_type": "markdown",
   "id": "a8a4e126",
   "metadata": {},
   "source": [
    "The dataset used is the soccer player dataset. It has information about various players from different clubs, and it provides data over ten features with a number of goals as the target variable."
   ]
  },
  {
   "cell_type": "code",
   "execution_count": 2,
   "id": "9df2ae9e",
   "metadata": {},
   "outputs": [
    {
     "name": "stdout",
     "output_type": "stream",
     "text": [
      "<class 'pandas.core.frame.DataFrame'>\n",
      "RangeIndex: 202 entries, 0 to 201\n",
      "Data columns (total 13 columns):\n",
      " #   Column                  Non-Null Count  Dtype  \n",
      "---  ------                  --------------  -----  \n",
      " 0   PlayerName              202 non-null    object \n",
      " 1   Club                    202 non-null    object \n",
      " 2   DistanceCovered(InKms)  202 non-null    float64\n",
      " 3   Goals                   202 non-null    float64\n",
      " 4   MinutestoGoalRatio      202 non-null    float64\n",
      " 5   ShotsPerGame            202 non-null    float64\n",
      " 6   AgentCharges            202 non-null    int64  \n",
      " 7   BMI                     202 non-null    float64\n",
      " 8   Cost                    202 non-null    float64\n",
      " 9   PreviousClubCost        202 non-null    float64\n",
      " 10  Height                  202 non-null    float64\n",
      " 11  Weight                  202 non-null    float64\n",
      " 12  Score                   202 non-null    float64\n",
      "dtypes: float64(10), int64(1), object(2)\n",
      "memory usage: 20.6+ KB\n"
     ]
    }
   ],
   "source": [
    "df = pd.read_csv('EPL_Soccer_MLR_LR.csv') #reads the dataset file into the system and stores it as pandas dataframe object\n",
    "df.info() #gives the summary of the read dataset"
   ]
  },
  {
   "cell_type": "markdown",
   "id": "a2e3a79c",
   "metadata": {},
   "source": [
    "We can see our dataset has 202 rows and no-nulls (no void or null values in dataset). If we have nulls we need to spend some time dealing with them. They certainly don't break our analysis, but we have to be intentional how we're going to handle them when working with regression models. We can lookout for why is the data null? why is it missing? how can we handle it?"
   ]
  },
  {
   "cell_type": "markdown",
   "id": "bd991d65",
   "metadata": {},
   "source": [
    "We have data points or attributes like PlayerName, Club, DistanceCovered, Goals, MinutestoGoalRatio, ShotsPerGame, AgentCharges, BMI, Cost, PreviousClubCost, Height, Weight, and Score. Here, we can see that how the variables are related to each other. Sometime therer is a issue of multicollinearity in multiple linear regression which occurs because the correlation of multiple predictor variables is high."
   ]
  },
  {
   "cell_type": "code",
   "execution_count": 3,
   "id": "96f01822",
   "metadata": {},
   "outputs": [
    {
     "data": {
      "text/html": [
       "<div>\n",
       "<style scoped>\n",
       "    .dataframe tbody tr th:only-of-type {\n",
       "        vertical-align: middle;\n",
       "    }\n",
       "\n",
       "    .dataframe tbody tr th {\n",
       "        vertical-align: top;\n",
       "    }\n",
       "\n",
       "    .dataframe thead th {\n",
       "        text-align: right;\n",
       "    }\n",
       "</style>\n",
       "<table border=\"1\" class=\"dataframe\">\n",
       "  <thead>\n",
       "    <tr style=\"text-align: right;\">\n",
       "      <th></th>\n",
       "      <th>DistanceCovered(InKms)</th>\n",
       "      <th>Goals</th>\n",
       "      <th>MinutestoGoalRatio</th>\n",
       "      <th>ShotsPerGame</th>\n",
       "      <th>AgentCharges</th>\n",
       "      <th>BMI</th>\n",
       "      <th>Cost</th>\n",
       "      <th>PreviousClubCost</th>\n",
       "      <th>Height</th>\n",
       "      <th>Weight</th>\n",
       "      <th>Score</th>\n",
       "    </tr>\n",
       "  </thead>\n",
       "  <tbody>\n",
       "    <tr>\n",
       "      <th>count</th>\n",
       "      <td>202.000000</td>\n",
       "      <td>202.000000</td>\n",
       "      <td>202.000000</td>\n",
       "      <td>202.000000</td>\n",
       "      <td>202.000000</td>\n",
       "      <td>202.000000</td>\n",
       "      <td>202.000000</td>\n",
       "      <td>202.000000</td>\n",
       "      <td>202.000000</td>\n",
       "      <td>202.000000</td>\n",
       "      <td>202.000000</td>\n",
       "    </tr>\n",
       "    <tr>\n",
       "      <th>mean</th>\n",
       "      <td>4.718614</td>\n",
       "      <td>7.108663</td>\n",
       "      <td>43.091584</td>\n",
       "      <td>14.566337</td>\n",
       "      <td>76.876238</td>\n",
       "      <td>22.955891</td>\n",
       "      <td>69.021782</td>\n",
       "      <td>64.873713</td>\n",
       "      <td>180.103960</td>\n",
       "      <td>75.008168</td>\n",
       "      <td>13.507426</td>\n",
       "    </tr>\n",
       "    <tr>\n",
       "      <th>std</th>\n",
       "      <td>0.457976</td>\n",
       "      <td>1.800549</td>\n",
       "      <td>3.662989</td>\n",
       "      <td>1.362451</td>\n",
       "      <td>47.501239</td>\n",
       "      <td>2.863933</td>\n",
       "      <td>32.565333</td>\n",
       "      <td>13.070197</td>\n",
       "      <td>9.734494</td>\n",
       "      <td>13.925574</td>\n",
       "      <td>6.189826</td>\n",
       "    </tr>\n",
       "    <tr>\n",
       "      <th>min</th>\n",
       "      <td>3.800000</td>\n",
       "      <td>3.300000</td>\n",
       "      <td>35.900000</td>\n",
       "      <td>11.600000</td>\n",
       "      <td>8.000000</td>\n",
       "      <td>16.750000</td>\n",
       "      <td>28.000000</td>\n",
       "      <td>34.360000</td>\n",
       "      <td>148.900000</td>\n",
       "      <td>37.800000</td>\n",
       "      <td>5.630000</td>\n",
       "    </tr>\n",
       "    <tr>\n",
       "      <th>25%</th>\n",
       "      <td>4.372500</td>\n",
       "      <td>5.900000</td>\n",
       "      <td>40.600000</td>\n",
       "      <td>13.500000</td>\n",
       "      <td>41.250000</td>\n",
       "      <td>21.082500</td>\n",
       "      <td>43.850000</td>\n",
       "      <td>54.667500</td>\n",
       "      <td>174.000000</td>\n",
       "      <td>66.525000</td>\n",
       "      <td>8.545000</td>\n",
       "    </tr>\n",
       "    <tr>\n",
       "      <th>50%</th>\n",
       "      <td>4.755000</td>\n",
       "      <td>6.850000</td>\n",
       "      <td>43.500000</td>\n",
       "      <td>14.700000</td>\n",
       "      <td>65.500000</td>\n",
       "      <td>22.720000</td>\n",
       "      <td>58.600000</td>\n",
       "      <td>63.035000</td>\n",
       "      <td>179.700000</td>\n",
       "      <td>74.400000</td>\n",
       "      <td>11.650000</td>\n",
       "    </tr>\n",
       "    <tr>\n",
       "      <th>75%</th>\n",
       "      <td>5.030000</td>\n",
       "      <td>8.275000</td>\n",
       "      <td>45.575000</td>\n",
       "      <td>15.575000</td>\n",
       "      <td>97.000000</td>\n",
       "      <td>24.465000</td>\n",
       "      <td>90.350000</td>\n",
       "      <td>74.750000</td>\n",
       "      <td>186.175000</td>\n",
       "      <td>84.125000</td>\n",
       "      <td>18.080000</td>\n",
       "    </tr>\n",
       "    <tr>\n",
       "      <th>max</th>\n",
       "      <td>6.720000</td>\n",
       "      <td>14.300000</td>\n",
       "      <td>59.700000</td>\n",
       "      <td>19.200000</td>\n",
       "      <td>234.000000</td>\n",
       "      <td>34.420000</td>\n",
       "      <td>200.800000</td>\n",
       "      <td>106.000000</td>\n",
       "      <td>209.400000</td>\n",
       "      <td>123.200000</td>\n",
       "      <td>35.520000</td>\n",
       "    </tr>\n",
       "  </tbody>\n",
       "</table>\n",
       "</div>"
      ],
      "text/plain": [
       "       DistanceCovered(InKms)       Goals  MinutestoGoalRatio  ShotsPerGame  \\\n",
       "count              202.000000  202.000000          202.000000    202.000000   \n",
       "mean                 4.718614    7.108663           43.091584     14.566337   \n",
       "std                  0.457976    1.800549            3.662989      1.362451   \n",
       "min                  3.800000    3.300000           35.900000     11.600000   \n",
       "25%                  4.372500    5.900000           40.600000     13.500000   \n",
       "50%                  4.755000    6.850000           43.500000     14.700000   \n",
       "75%                  5.030000    8.275000           45.575000     15.575000   \n",
       "max                  6.720000   14.300000           59.700000     19.200000   \n",
       "\n",
       "       AgentCharges         BMI        Cost  PreviousClubCost      Height  \\\n",
       "count    202.000000  202.000000  202.000000        202.000000  202.000000   \n",
       "mean      76.876238   22.955891   69.021782         64.873713  180.103960   \n",
       "std       47.501239    2.863933   32.565333         13.070197    9.734494   \n",
       "min        8.000000   16.750000   28.000000         34.360000  148.900000   \n",
       "25%       41.250000   21.082500   43.850000         54.667500  174.000000   \n",
       "50%       65.500000   22.720000   58.600000         63.035000  179.700000   \n",
       "75%       97.000000   24.465000   90.350000         74.750000  186.175000   \n",
       "max      234.000000   34.420000  200.800000        106.000000  209.400000   \n",
       "\n",
       "           Weight       Score  \n",
       "count  202.000000  202.000000  \n",
       "mean    75.008168   13.507426  \n",
       "std     13.925574    6.189826  \n",
       "min     37.800000    5.630000  \n",
       "25%     66.525000    8.545000  \n",
       "50%     74.400000   11.650000  \n",
       "75%     84.125000   18.080000  \n",
       "max    123.200000   35.520000  "
      ]
     },
     "execution_count": 3,
     "metadata": {},
     "output_type": "execute_result"
    }
   ],
   "source": [
    "df.describe() #describes various statistics of each attribute"
   ]
  },
  {
   "cell_type": "markdown",
   "id": "483a8ada",
   "metadata": {},
   "source": [
    "Describe function gives us the descriptive statistics that summarizes the central tendency, dispersion and shape of a dataset's distribution, excluding NAN values."
   ]
  },
  {
   "cell_type": "code",
   "execution_count": 4,
   "id": "e734fc0d",
   "metadata": {},
   "outputs": [
    {
     "data": {
      "text/html": [
       "<div>\n",
       "<style scoped>\n",
       "    .dataframe tbody tr th:only-of-type {\n",
       "        vertical-align: middle;\n",
       "    }\n",
       "\n",
       "    .dataframe tbody tr th {\n",
       "        vertical-align: top;\n",
       "    }\n",
       "\n",
       "    .dataframe thead th {\n",
       "        text-align: right;\n",
       "    }\n",
       "</style>\n",
       "<table border=\"1\" class=\"dataframe\">\n",
       "  <thead>\n",
       "    <tr style=\"text-align: right;\">\n",
       "      <th></th>\n",
       "      <th>DistanceCovered(InKms)</th>\n",
       "      <th>Goals</th>\n",
       "      <th>MinutestoGoalRatio</th>\n",
       "      <th>ShotsPerGame</th>\n",
       "      <th>AgentCharges</th>\n",
       "      <th>BMI</th>\n",
       "      <th>Cost</th>\n",
       "      <th>PreviousClubCost</th>\n",
       "      <th>Height</th>\n",
       "      <th>Weight</th>\n",
       "      <th>Score</th>\n",
       "    </tr>\n",
       "  </thead>\n",
       "  <tbody>\n",
       "    <tr>\n",
       "      <th>DistanceCovered(InKms)</th>\n",
       "      <td>1.000000</td>\n",
       "      <td>0.147098</td>\n",
       "      <td>0.924964</td>\n",
       "      <td>0.888800</td>\n",
       "      <td>0.250865</td>\n",
       "      <td>0.299471</td>\n",
       "      <td>-0.403004</td>\n",
       "      <td>0.550975</td>\n",
       "      <td>0.358854</td>\n",
       "      <td>0.403743</td>\n",
       "      <td>-0.493512</td>\n",
       "    </tr>\n",
       "    <tr>\n",
       "      <th>Goals</th>\n",
       "      <td>0.147098</td>\n",
       "      <td>1.000000</td>\n",
       "      <td>0.153333</td>\n",
       "      <td>0.134721</td>\n",
       "      <td>0.131973</td>\n",
       "      <td>0.177032</td>\n",
       "      <td>0.137131</td>\n",
       "      <td>0.102734</td>\n",
       "      <td>0.076958</td>\n",
       "      <td>0.155844</td>\n",
       "      <td>0.108114</td>\n",
       "    </tr>\n",
       "    <tr>\n",
       "      <th>MinutestoGoalRatio</th>\n",
       "      <td>0.924964</td>\n",
       "      <td>0.153333</td>\n",
       "      <td>1.000000</td>\n",
       "      <td>0.950757</td>\n",
       "      <td>0.258240</td>\n",
       "      <td>0.320527</td>\n",
       "      <td>-0.449135</td>\n",
       "      <td>0.583375</td>\n",
       "      <td>0.371192</td>\n",
       "      <td>0.423699</td>\n",
       "      <td>-0.532449</td>\n",
       "    </tr>\n",
       "    <tr>\n",
       "      <th>ShotsPerGame</th>\n",
       "      <td>0.888800</td>\n",
       "      <td>0.134721</td>\n",
       "      <td>0.950757</td>\n",
       "      <td>1.000000</td>\n",
       "      <td>0.308391</td>\n",
       "      <td>0.382524</td>\n",
       "      <td>-0.435429</td>\n",
       "      <td>0.610986</td>\n",
       "      <td>0.352322</td>\n",
       "      <td>0.455255</td>\n",
       "      <td>-0.531522</td>\n",
       "    </tr>\n",
       "    <tr>\n",
       "      <th>AgentCharges</th>\n",
       "      <td>0.250865</td>\n",
       "      <td>0.131973</td>\n",
       "      <td>0.258240</td>\n",
       "      <td>0.308391</td>\n",
       "      <td>1.000000</td>\n",
       "      <td>0.302556</td>\n",
       "      <td>-0.108243</td>\n",
       "      <td>0.317581</td>\n",
       "      <td>0.123255</td>\n",
       "      <td>0.273686</td>\n",
       "      <td>-0.183386</td>\n",
       "    </tr>\n",
       "    <tr>\n",
       "      <th>BMI</th>\n",
       "      <td>0.299471</td>\n",
       "      <td>0.177032</td>\n",
       "      <td>0.320527</td>\n",
       "      <td>0.382524</td>\n",
       "      <td>0.302556</td>\n",
       "      <td>1.000000</td>\n",
       "      <td>0.321116</td>\n",
       "      <td>0.713858</td>\n",
       "      <td>0.337097</td>\n",
       "      <td>0.845955</td>\n",
       "      <td>0.187558</td>\n",
       "    </tr>\n",
       "    <tr>\n",
       "      <th>Cost</th>\n",
       "      <td>-0.403004</td>\n",
       "      <td>0.137131</td>\n",
       "      <td>-0.449135</td>\n",
       "      <td>-0.435429</td>\n",
       "      <td>-0.108243</td>\n",
       "      <td>0.321116</td>\n",
       "      <td>1.000000</td>\n",
       "      <td>-0.207749</td>\n",
       "      <td>-0.071253</td>\n",
       "      <td>0.154227</td>\n",
       "      <td>0.963017</td>\n",
       "    </tr>\n",
       "    <tr>\n",
       "      <th>PreviousClubCost</th>\n",
       "      <td>0.550975</td>\n",
       "      <td>0.102734</td>\n",
       "      <td>0.583375</td>\n",
       "      <td>0.610986</td>\n",
       "      <td>0.317581</td>\n",
       "      <td>0.713858</td>\n",
       "      <td>-0.207749</td>\n",
       "      <td>1.000000</td>\n",
       "      <td>0.802119</td>\n",
       "      <td>0.930904</td>\n",
       "      <td>-0.361850</td>\n",
       "    </tr>\n",
       "    <tr>\n",
       "      <th>Height</th>\n",
       "      <td>0.358854</td>\n",
       "      <td>0.076958</td>\n",
       "      <td>0.371192</td>\n",
       "      <td>0.352322</td>\n",
       "      <td>0.123255</td>\n",
       "      <td>0.337097</td>\n",
       "      <td>-0.071253</td>\n",
       "      <td>0.802119</td>\n",
       "      <td>1.000000</td>\n",
       "      <td>0.780906</td>\n",
       "      <td>-0.188022</td>\n",
       "    </tr>\n",
       "    <tr>\n",
       "      <th>Weight</th>\n",
       "      <td>0.403743</td>\n",
       "      <td>0.155844</td>\n",
       "      <td>0.423699</td>\n",
       "      <td>0.455255</td>\n",
       "      <td>0.273686</td>\n",
       "      <td>0.845955</td>\n",
       "      <td>0.154227</td>\n",
       "      <td>0.930904</td>\n",
       "      <td>0.780906</td>\n",
       "      <td>1.000000</td>\n",
       "      <td>-0.000162</td>\n",
       "    </tr>\n",
       "    <tr>\n",
       "      <th>Score</th>\n",
       "      <td>-0.493512</td>\n",
       "      <td>0.108114</td>\n",
       "      <td>-0.532449</td>\n",
       "      <td>-0.531522</td>\n",
       "      <td>-0.183386</td>\n",
       "      <td>0.187558</td>\n",
       "      <td>0.963017</td>\n",
       "      <td>-0.361850</td>\n",
       "      <td>-0.188022</td>\n",
       "      <td>-0.000162</td>\n",
       "      <td>1.000000</td>\n",
       "    </tr>\n",
       "  </tbody>\n",
       "</table>\n",
       "</div>"
      ],
      "text/plain": [
       "                        DistanceCovered(InKms)     Goals  MinutestoGoalRatio  \\\n",
       "DistanceCovered(InKms)                1.000000  0.147098            0.924964   \n",
       "Goals                                 0.147098  1.000000            0.153333   \n",
       "MinutestoGoalRatio                    0.924964  0.153333            1.000000   \n",
       "ShotsPerGame                          0.888800  0.134721            0.950757   \n",
       "AgentCharges                          0.250865  0.131973            0.258240   \n",
       "BMI                                   0.299471  0.177032            0.320527   \n",
       "Cost                                 -0.403004  0.137131           -0.449135   \n",
       "PreviousClubCost                      0.550975  0.102734            0.583375   \n",
       "Height                                0.358854  0.076958            0.371192   \n",
       "Weight                                0.403743  0.155844            0.423699   \n",
       "Score                                -0.493512  0.108114           -0.532449   \n",
       "\n",
       "                        ShotsPerGame  AgentCharges       BMI      Cost  \\\n",
       "DistanceCovered(InKms)      0.888800      0.250865  0.299471 -0.403004   \n",
       "Goals                       0.134721      0.131973  0.177032  0.137131   \n",
       "MinutestoGoalRatio          0.950757      0.258240  0.320527 -0.449135   \n",
       "ShotsPerGame                1.000000      0.308391  0.382524 -0.435429   \n",
       "AgentCharges                0.308391      1.000000  0.302556 -0.108243   \n",
       "BMI                         0.382524      0.302556  1.000000  0.321116   \n",
       "Cost                       -0.435429     -0.108243  0.321116  1.000000   \n",
       "PreviousClubCost            0.610986      0.317581  0.713858 -0.207749   \n",
       "Height                      0.352322      0.123255  0.337097 -0.071253   \n",
       "Weight                      0.455255      0.273686  0.845955  0.154227   \n",
       "Score                      -0.531522     -0.183386  0.187558  0.963017   \n",
       "\n",
       "                        PreviousClubCost    Height    Weight     Score  \n",
       "DistanceCovered(InKms)          0.550975  0.358854  0.403743 -0.493512  \n",
       "Goals                           0.102734  0.076958  0.155844  0.108114  \n",
       "MinutestoGoalRatio              0.583375  0.371192  0.423699 -0.532449  \n",
       "ShotsPerGame                    0.610986  0.352322  0.455255 -0.531522  \n",
       "AgentCharges                    0.317581  0.123255  0.273686 -0.183386  \n",
       "BMI                             0.713858  0.337097  0.845955  0.187558  \n",
       "Cost                           -0.207749 -0.071253  0.154227  0.963017  \n",
       "PreviousClubCost                1.000000  0.802119  0.930904 -0.361850  \n",
       "Height                          0.802119  1.000000  0.780906 -0.188022  \n",
       "Weight                          0.930904  0.780906  1.000000 -0.000162  \n",
       "Score                          -0.361850 -0.188022 -0.000162  1.000000  "
      ]
     },
     "execution_count": 4,
     "metadata": {},
     "output_type": "execute_result"
    }
   ],
   "source": [
    "df.corr() #draws the correlation matrix between each attribute"
   ]
  },
  {
   "cell_type": "markdown",
   "id": "56b38047",
   "metadata": {},
   "source": [
    "In our dataset, cost is 96% correlated with Score, which means they are highly correlated. Hence, we can use cost to predict score using simple linear regression model."
   ]
  },
  {
   "cell_type": "markdown",
   "id": "98a667db",
   "metadata": {},
   "source": [
    "# Using cost of players to predict score of players using Linear Regression as both are highly correlated"
   ]
  },
  {
   "cell_type": "code",
   "execution_count": 5,
   "id": "f71ec7b6",
   "metadata": {},
   "outputs": [
    {
     "data": {
      "image/png": "[encoded data removed]",
      "text/plain": [
       "<Figure size 432x288 with 1 Axes>"
      ]
     },
     "metadata": {
      "needs_background": "light"
     },
     "output_type": "display_data"
    }
   ],
   "source": [
    "plt.scatter(df['Cost'], df['Score']); #This gives the scatter plot of cost and score\n",
    "plt.xlabel('Cost');\n",
    "plt.ylabel('Score');\n",
    "plt.title('Cost V/S Score');\n",
    "plt.show();"
   ]
  },
  {
   "cell_type": "markdown",
   "id": "7dc50569",
   "metadata": {},
   "source": [
    "This plot shows that cost and score are highly related as shown in the correlation matrix. There is a light bend in the scatter plot and fewer data points as the cost and score increases. Also, there is not much of non-constant variance. Hence, we're good to go with regression model."
   ]
  },
  {
   "cell_type": "code",
   "execution_count": 6,
   "id": "68bb7d72",
   "metadata": {},
   "outputs": [],
   "source": [
    "#Assigning x values as cost data points and y as score data points\n",
    "x = df['Cost'];\n",
    "y = df['Score'];"
   ]
  },
  {
   "cell_type": "code",
   "execution_count": 7,
   "id": "7eaa2a6f",
   "metadata": {},
   "outputs": [],
   "source": [
    "#Dividing the x and y sets in train and test sets\n",
    "x_train, x_test, y_train, y_test = train_test_split(x, y, train_size = 0.75, test_size = 0.25, random_state = 100);"
   ]
  },
  {
   "cell_type": "markdown",
   "id": "fdc46669",
   "metadata": {},
   "source": [
    "We do train and test fit so that we do not overfit the dataset on the model. If we use all the data points to trian the model, then model may only learn the small nuances of the data, but when in future tested with some different world scenario, it may not give the expected results."
   ]
  },
  {
   "cell_type": "markdown",
   "id": "623e408d",
   "metadata": {},
   "source": [
    "# StatsModels approach to regression using Ordinary Least Squares method"
   ]
  },
  {
   "cell_type": "markdown",
   "id": "f52ee99e",
   "metadata": {},
   "source": [
    "In the OLS method, we have to choose the values of beta0 and beta1 such that, the total sum of squares of the difference between the calculated and observed value of y is minimised."
   ]
  },
  {
   "cell_type": "markdown",
   "id": "bd219174",
   "metadata": {},
   "source": [
    "Formula of OLS:"
   ]
  },
  {
   "attachments": {
    "image.png": {
     "image/png": "[encoded data removed]"
    }
   },
   "cell_type": "markdown",
   "id": "2cf9c3e9",
   "metadata": {},
   "source": [
    "![image.png](attachment:image.png)"
   ]
  },
  {
   "cell_type": "markdown",
   "id": "5f8102f7",
   "metadata": {},
   "source": [
    "Where, y^i  = predicted value for the ith observation, yi  = actual value for the ith observation, epsilon_i  = error/residual for the ith observation, n = total number of observations\n",
    "\n",
    "To get the values of b_0  and b_1  which minimise S, we can take a partial derivative for each coefficient and equate it to zero."
   ]
  },
  {
   "cell_type": "code",
   "execution_count": 8,
   "id": "63ebb75a",
   "metadata": {},
   "outputs": [],
   "source": [
    "#Fitting the model\n",
    "lr1 = sm.OLS(y_train, x_train).fit()"
   ]
  },
  {
   "cell_type": "code",
   "execution_count": 9,
   "id": "d7cb3696",
   "metadata": {},
   "outputs": [
    {
     "data": {
      "text/plain": [
       "Cost    0.192891\n",
       "dtype: float64"
      ]
     },
     "execution_count": 9,
     "metadata": {},
     "output_type": "execute_result"
    }
   ],
   "source": [
    "lr1.params"
   ]
  },
  {
   "cell_type": "code",
   "execution_count": 10,
   "id": "47b9d549",
   "metadata": {},
   "outputs": [
    {
     "data": {
      "text/html": [
       "<table class=\"simpletable\">\n",
       "<caption>OLS Regression Results</caption>\n",
       "<tr>\n",
       "  <th>Dep. Variable:</th>          <td>Score</td>      <th>  R-squared (uncentered):</th>      <td>   0.987</td> \n",
       "</tr>\n",
       "<tr>\n",
       "  <th>Model:</th>                   <td>OLS</td>       <th>  Adj. R-squared (uncentered):</th> <td>   0.987</td> \n",
       "</tr>\n",
       "<tr>\n",
       "  <th>Method:</th>             <td>Least Squares</td>  <th>  F-statistic:       </th>          <td>1.167e+04</td>\n",
       "</tr>\n",
       "<tr>\n",
       "  <th>Date:</th>             <td>Thu, 12 May 2022</td> <th>  Prob (F-statistic):</th>          <td>3.84e-144</td>\n",
       "</tr>\n",
       "<tr>\n",
       "  <th>Time:</th>                 <td>12:14:26</td>     <th>  Log-Likelihood:    </th>          <td> -297.42</td> \n",
       "</tr>\n",
       "<tr>\n",
       "  <th>No. Observations:</th>      <td>   151</td>      <th>  AIC:               </th>          <td>   596.8</td> \n",
       "</tr>\n",
       "<tr>\n",
       "  <th>Df Residuals:</th>          <td>   150</td>      <th>  BIC:               </th>          <td>   599.9</td> \n",
       "</tr>\n",
       "<tr>\n",
       "  <th>Df Model:</th>              <td>     1</td>      <th>                     </th>              <td> </td>    \n",
       "</tr>\n",
       "<tr>\n",
       "  <th>Covariance Type:</th>      <td>nonrobust</td>    <th>                     </th>              <td> </td>    \n",
       "</tr>\n",
       "</table>\n",
       "<table class=\"simpletable\">\n",
       "<tr>\n",
       "    <td></td>      <th>coef</th>     <th>std err</th>      <th>t</th>      <th>P>|t|</th>  <th>[0.025</th>    <th>0.975]</th>  \n",
       "</tr>\n",
       "<tr>\n",
       "  <th>Cost</th> <td>    0.1929</td> <td>    0.002</td> <td>  108.014</td> <td> 0.000</td> <td>    0.189</td> <td>    0.196</td>\n",
       "</tr>\n",
       "</table>\n",
       "<table class=\"simpletable\">\n",
       "<tr>\n",
       "  <th>Omnibus:</th>       <td> 0.244</td> <th>  Durbin-Watson:     </th> <td>   1.812</td>\n",
       "</tr>\n",
       "<tr>\n",
       "  <th>Prob(Omnibus):</th> <td> 0.885</td> <th>  Jarque-Bera (JB):  </th> <td>   0.054</td>\n",
       "</tr>\n",
       "<tr>\n",
       "  <th>Skew:</th>          <td> 0.021</td> <th>  Prob(JB):          </th> <td>   0.974</td>\n",
       "</tr>\n",
       "<tr>\n",
       "  <th>Kurtosis:</th>      <td> 3.083</td> <th>  Cond. No.          </th> <td>    1.00</td>\n",
       "</tr>\n",
       "</table><br/><br/>Notes:<br/>[1] R² is computed without centering (uncentered) since the model does not contain a constant.<br/>[2] Standard Errors assume that the covariance matrix of the errors is correctly specified."
      ],
      "text/plain": [
       "<class 'statsmodels.iolib.summary.Summary'>\n",
       "\"\"\"\n",
       "                                 OLS Regression Results                                \n",
       "=======================================================================================\n",
       "Dep. Variable:                  Score   R-squared (uncentered):                   0.987\n",
       "Model:                            OLS   Adj. R-squared (uncentered):              0.987\n",
       "Method:                 Least Squares   F-statistic:                          1.167e+04\n",
       "Date:                Thu, 12 May 2022   Prob (F-statistic):                   3.84e-144\n",
       "Time:                        12:14:26   Log-Likelihood:                         -297.42\n",
       "No. Observations:                 151   AIC:                                      596.8\n",
       "Df Residuals:                     150   BIC:                                      599.9\n",
       "Df Model:                           1                                                  \n",
       "Covariance Type:            nonrobust                                                  \n",
       "==============================================================================\n",
       "                 coef    std err          t      P>|t|      [0.025      0.975]\n",
       "------------------------------------------------------------------------------\n",
       "Cost           0.1929      0.002    108.014      0.000       0.189       0.196\n",
       "==============================================================================\n",
       "Omnibus:                        0.244   Durbin-Watson:                   1.812\n",
       "Prob(Omnibus):                  0.885   Jarque-Bera (JB):                0.054\n",
       "Skew:                           0.021   Prob(JB):                        0.974\n",
       "Kurtosis:                       3.083   Cond. No.                         1.00\n",
       "==============================================================================\n",
       "\n",
       "Notes:\n",
       "[1] R² is computed without centering (uncentered) since the model does not contain a constant.\n",
       "[2] Standard Errors assume that the covariance matrix of the errors is correctly specified.\n",
       "\"\"\""
      ]
     },
     "execution_count": 10,
     "metadata": {},
     "output_type": "execute_result"
    }
   ],
   "source": [
    "lr1.summary()"
   ]
  },
  {
   "cell_type": "code",
   "execution_count": 11,
   "id": "7b8c8dbb",
   "metadata": {},
   "outputs": [
    {
     "data": {
      "text/html": [
       "<table class=\"simpletable\">\n",
       "<caption>OLS Regression Results</caption>\n",
       "<tr>\n",
       "  <th>Dep. Variable:</th>          <td>Score</td>      <th>  R-squared:         </th> <td>   0.930</td>\n",
       "</tr>\n",
       "<tr>\n",
       "  <th>Model:</th>                   <td>OLS</td>       <th>  Adj. R-squared:    </th> <td>   0.929</td>\n",
       "</tr>\n",
       "<tr>\n",
       "  <th>Method:</th>             <td>Least Squares</td>  <th>  F-statistic:       </th> <td>   1976.</td>\n",
       "</tr>\n",
       "<tr>\n",
       "  <th>Date:</th>             <td>Thu, 12 May 2022</td> <th>  Prob (F-statistic):</th> <td>6.91e-88</td>\n",
       "</tr>\n",
       "<tr>\n",
       "  <th>Time:</th>                 <td>12:14:26</td>     <th>  Log-Likelihood:    </th> <td> -293.23</td>\n",
       "</tr>\n",
       "<tr>\n",
       "  <th>No. Observations:</th>      <td>   151</td>      <th>  AIC:               </th> <td>   590.5</td>\n",
       "</tr>\n",
       "<tr>\n",
       "  <th>Df Residuals:</th>          <td>   149</td>      <th>  BIC:               </th> <td>   596.5</td>\n",
       "</tr>\n",
       "<tr>\n",
       "  <th>Df Model:</th>              <td>     1</td>      <th>                     </th>     <td> </td>   \n",
       "</tr>\n",
       "<tr>\n",
       "  <th>Covariance Type:</th>      <td>nonrobust</td>    <th>                     </th>     <td> </td>   \n",
       "</tr>\n",
       "</table>\n",
       "<table class=\"simpletable\">\n",
       "<tr>\n",
       "    <td></td>       <th>coef</th>     <th>std err</th>      <th>t</th>      <th>P>|t|</th>  <th>[0.025</th>    <th>0.975]</th>  \n",
       "</tr>\n",
       "<tr>\n",
       "  <th>const</th> <td>    0.9472</td> <td>    0.325</td> <td>    2.916</td> <td> 0.004</td> <td>    0.305</td> <td>    1.589</td>\n",
       "</tr>\n",
       "<tr>\n",
       "  <th>Cost</th>  <td>    0.1821</td> <td>    0.004</td> <td>   44.456</td> <td> 0.000</td> <td>    0.174</td> <td>    0.190</td>\n",
       "</tr>\n",
       "</table>\n",
       "<table class=\"simpletable\">\n",
       "<tr>\n",
       "  <th>Omnibus:</th>       <td> 3.849</td> <th>  Durbin-Watson:     </th> <td>   1.821</td>\n",
       "</tr>\n",
       "<tr>\n",
       "  <th>Prob(Omnibus):</th> <td> 0.146</td> <th>  Jarque-Bera (JB):  </th> <td>   3.867</td>\n",
       "</tr>\n",
       "<tr>\n",
       "  <th>Skew:</th>          <td> 0.359</td> <th>  Prob(JB):          </th> <td>   0.145</td>\n",
       "</tr>\n",
       "<tr>\n",
       "  <th>Kurtosis:</th>      <td> 2.685</td> <th>  Cond. No.          </th> <td>    186.</td>\n",
       "</tr>\n",
       "</table><br/><br/>Notes:<br/>[1] Standard Errors assume that the covariance matrix of the errors is correctly specified."
      ],
      "text/plain": [
       "<class 'statsmodels.iolib.summary.Summary'>\n",
       "\"\"\"\n",
       "                            OLS Regression Results                            \n",
       "==============================================================================\n",
       "Dep. Variable:                  Score   R-squared:                       0.930\n",
       "Model:                            OLS   Adj. R-squared:                  0.929\n",
       "Method:                 Least Squares   F-statistic:                     1976.\n",
       "Date:                Thu, 12 May 2022   Prob (F-statistic):           6.91e-88\n",
       "Time:                        12:14:26   Log-Likelihood:                -293.23\n",
       "No. Observations:                 151   AIC:                             590.5\n",
       "Df Residuals:                     149   BIC:                             596.5\n",
       "Df Model:                           1                                         \n",
       "Covariance Type:            nonrobust                                         \n",
       "==============================================================================\n",
       "                 coef    std err          t      P>|t|      [0.025      0.975]\n",
       "------------------------------------------------------------------------------\n",
       "const          0.9472      0.325      2.916      0.004       0.305       1.589\n",
       "Cost           0.1821      0.004     44.456      0.000       0.174       0.190\n",
       "==============================================================================\n",
       "Omnibus:                        3.849   Durbin-Watson:                   1.821\n",
       "Prob(Omnibus):                  0.146   Jarque-Bera (JB):                3.867\n",
       "Skew:                           0.359   Prob(JB):                        0.145\n",
       "Kurtosis:                       2.685   Cond. No.                         186.\n",
       "==============================================================================\n",
       "\n",
       "Notes:\n",
       "[1] Standard Errors assume that the covariance matrix of the errors is correctly specified.\n",
       "\"\"\""
      ]
     },
     "execution_count": 11,
     "metadata": {},
     "output_type": "execute_result"
    }
   ],
   "source": [
    "#Forced intercept term to get beta0 or else we were doing beta1*X\n",
    "x_train_with_intercept = sm.add_constant(x_train); #this line adds the constant term to the equation,i.e. beta0 for all points\n",
    "lr1 = sm.OLS(y_train, x_train_with_intercept).fit();\n",
    "lr1.summary()"
   ]
  },
  {
   "cell_type": "markdown",
   "id": "636a3cf4",
   "metadata": {},
   "source": [
    "This summary say that our equation of score is as follows:\n",
    "\n",
    "Score = beta0 + beta1 * Cost\n",
    "\n",
    "Score = 0.9472 + 0.1821 * Cost\n",
    "\n",
    "So, if we increase our cost by1 unit we can expect 0.1821 increase in score."
   ]
  },
  {
   "cell_type": "markdown",
   "id": "ed36c996",
   "metadata": {},
   "source": [
    "In the statistics calculated above, we can see that our R-squared value is 93%, that means our model captures 93% of variance. The key value for F-statistic, i.e. Prob(F-statistic) is very small, that means our null hypothesis is not true, i.e. slope is not zero and it is extremely unlikely that our model is not good. The T-statistic value is also very low, so null hypothesis does not stand here."
   ]
  },
  {
   "cell_type": "code",
   "execution_count": 12,
   "id": "cf5d1536",
   "metadata": {},
   "outputs": [
    {
     "name": "stdout",
     "output_type": "stream",
     "text": [
      "0.9471853461853086 0.18208264626002557\n"
     ]
    }
   ],
   "source": [
    "#Extracting the params beta0 and beta1\n",
    "\n",
    "lr1.params\n",
    "\n",
    "#We can also extract using below code\n",
    "\n",
    "b0 = lr1.params[0]\n",
    "b1 = lr1.params[1]\n",
    "print(b0,b1)"
   ]
  },
  {
   "cell_type": "code",
   "execution_count": 13,
   "id": "38ffaeae",
   "metadata": {},
   "outputs": [
    {
     "data": {
      "image/png": "[encoded data removed]",
      "text/plain": [
       "<Figure size 432x288 with 1 Axes>"
      ]
     },
     "metadata": {
      "needs_background": "light"
     },
     "output_type": "display_data"
    }
   ],
   "source": [
    "#Plotting the fitted line of training data\n",
    "\n",
    "plt.scatter(x_train, y_train)\n",
    "plt.plot(x_train, b0+b1*x_train, 'r')\n",
    "plt.xlabel('Cost');\n",
    "plt.ylabel('Score');\n",
    "plt.title('Training Data: Cost V/S Score');\n",
    "plt.show()"
   ]
  },
  {
   "cell_type": "markdown",
   "id": "d48ab212",
   "metadata": {},
   "source": [
    "The model looks reasonable upto 150, above that it seems to be over estimating. This says that Premier League is overpaying certain players."
   ]
  },
  {
   "cell_type": "code",
   "execution_count": 14,
   "id": "0f09ace1",
   "metadata": {},
   "outputs": [
    {
     "data": {
      "image/png": "[encoded data removed]",
      "text/plain": [
       "<Figure size 432x288 with 1 Axes>"
      ]
     },
     "metadata": {
      "needs_background": "light"
     },
     "output_type": "display_data"
    }
   ],
   "source": [
    "#Plotting the fitted line on test data\n",
    "\n",
    "x_test_with_intercept = sm.add_constant(x_test)\n",
    "y_test_fitted = lr1.predict(x_test_with_intercept)\n",
    "\n",
    "plt.scatter(x_test, y_test)\n",
    "plt.plot(x_test, y_test_fitted, 'r')\n",
    "plt.xlabel('Cost');\n",
    "plt.ylabel('Score');\n",
    "plt.title('Testing Data: Cost V/S Score');\n",
    "plt.show()"
   ]
  },
  {
   "cell_type": "markdown",
   "id": "470a73fa",
   "metadata": {},
   "source": [
    "So, this plot says that our model is working well on testing data. But, in the trianing plot we see that our model starts to breakdown around the cost of 150, and out testing data has the maximum value of 120. Hence, we cannot be sure. "
   ]
  },
  {
   "cell_type": "markdown",
   "id": "f7f2f1c5",
   "metadata": {},
   "source": [
    "# Residual Diagnostics"
   ]
  },
  {
   "cell_type": "code",
   "execution_count": 15,
   "id": "1a972a78",
   "metadata": {},
   "outputs": [
    {
     "data": {
      "image/png": "[encoded data removed]",
      "text/plain": [
       "<Figure size 432x288 with 1 Axes>"
      ]
     },
     "metadata": {
      "needs_background": "light"
     },
     "output_type": "display_data"
    }
   ],
   "source": [
    "#Assessing Non-Linearity - we fit our predicted values againt fitting data\n",
    "\n",
    "pred_y = lr1.predict(x_train_with_intercept)\n",
    "\n",
    "#Finding residuals\n",
    "r_i = (y_train - pred_y)\n",
    "\n",
    "#Residual v/s cost plot\n",
    "plt.title('Residuals V/S Cost')\n",
    "plt.xlabel('Cost')\n",
    "plt.scatter(x_train, r_i)\n",
    "plt.show()"
   ]
  },
  {
   "cell_type": "markdown",
   "id": "4478f15e",
   "metadata": {},
   "source": [
    "It looks like the pattern is more parabolic. There are some kind of increasing residual values till 130. Below 150 things look pretty good, but beyond that it is little bit dicier. This plot also says that we are potentially suffering from non-constant variance as the plot is megaphone type of shape."
   ]
  },
  {
   "cell_type": "code",
   "execution_count": 16,
   "id": "ec98feaf",
   "metadata": {},
   "outputs": [
    {
     "data": {
      "image/png": "[encoded data removed]",
      "text/plain": [
       "<Figure size 432x288 with 1 Axes>"
      ]
     },
     "metadata": {
      "needs_background": "light"
     },
     "output_type": "display_data"
    }
   ],
   "source": [
    "#Absolute residuals againt predictor\n",
    "\n",
    "abs_r_i = np.abs(y_train - pred_y)\n",
    "plt.title('Absolute Residuals V/S Cost')\n",
    "plt.xlabel('Cost')\n",
    "plt.scatter(x_train, abs_r_i)\n",
    "plt.show()"
   ]
  },
  {
   "cell_type": "markdown",
   "id": "b895891b",
   "metadata": {},
   "source": [
    "Once we take the sign out of the equation of residuals, the model looks more better. We need to search for some more data of cost of players above 150, or we can say that predictions not that good above 150."
   ]
  },
  {
   "cell_type": "code",
   "execution_count": 17,
   "id": "a321db1f",
   "metadata": {},
   "outputs": [
    {
     "data": {
      "text/plain": [
       "((array([-2.60603471, -2.28639722, -2.10324767, -1.97158309, -1.867224  ,\n",
       "         -1.7799545 , -1.70445293, -1.63757876, -1.57731662, -1.52229259,\n",
       "         -1.47152616, -1.42429196, -1.3800376 , -1.33833223, -1.29883298,\n",
       "         -1.26126233, -1.22539231, -1.19103324, -1.1580255 , -1.12623343,\n",
       "         -1.09554071, -1.06584677, -1.03706405, -1.0091158 , -0.98193434,\n",
       "         -0.95545967, -0.92963831, -0.90442237, -0.87976879, -0.85563868,\n",
       "         -0.83199678, -0.80881102, -0.78605212, -0.76369328, -0.74170987,\n",
       "         -0.7200792 , -0.69878032, -0.67779383, -0.65710172, -0.6366872 ,\n",
       "         -0.61653466, -0.59662946, -0.57695791, -0.55750713, -0.53826504,\n",
       "         -0.51922023, -0.50036191, -0.48167989, -0.4631645 , -0.44480656,\n",
       "         -0.42659733, -0.40852846, -0.39059201, -0.37278035, -0.35508619,\n",
       "         -0.33750252, -0.32002258, -0.3026399 , -0.28534819, -0.26814138,\n",
       "         -0.25101361, -0.23395916, -0.2169725 , -0.20004822, -0.18318105,\n",
       "         -0.16636584, -0.14959754, -0.1328712 , -0.11618195, -0.09952501,\n",
       "         -0.08289563, -0.06628915, -0.04970093, -0.03312637, -0.01656091,\n",
       "          0.        ,  0.01656091,  0.03312637,  0.04970093,  0.06628915,\n",
       "          0.08289563,  0.09952501,  0.11618195,  0.1328712 ,  0.14959754,\n",
       "          0.16636584,  0.18318105,  0.20004822,  0.2169725 ,  0.23395916,\n",
       "          0.25101361,  0.26814138,  0.28534819,  0.3026399 ,  0.32002258,\n",
       "          0.33750252,  0.35508619,  0.37278035,  0.39059201,  0.40852846,\n",
       "          0.42659733,  0.44480656,  0.4631645 ,  0.48167989,  0.50036191,\n",
       "          0.51922023,  0.53826504,  0.55750713,  0.57695791,  0.59662946,\n",
       "          0.61653466,  0.6366872 ,  0.65710172,  0.67779383,  0.69878032,\n",
       "          0.7200792 ,  0.74170987,  0.76369328,  0.78605212,  0.80881102,\n",
       "          0.83199678,  0.85563868,  0.87976879,  0.90442237,  0.92963831,\n",
       "          0.95545967,  0.98193434,  1.0091158 ,  1.03706405,  1.06584677,\n",
       "          1.09554071,  1.12623343,  1.1580255 ,  1.19103324,  1.22539231,\n",
       "          1.26126233,  1.29883298,  1.33833223,  1.3800376 ,  1.42429196,\n",
       "          1.47152616,  1.52229259,  1.57731662,  1.63757876,  1.70445293,\n",
       "          1.7799545 ,  1.867224  ,  1.97158309,  2.10324767,  2.28639722,\n",
       "          2.60603471]),\n",
       "  array([-3.93160217, -3.4506433 , -3.27152612, -3.20243503, -2.96132775,\n",
       "         -2.89132775, -2.6043326 , -2.57918874, -2.12589618, -2.09542019,\n",
       "         -2.06297058, -2.04290782, -1.98938072, -1.95388639, -1.93010775,\n",
       "         -1.85856065, -1.77528458, -1.77260362, -1.72114907, -1.71673914,\n",
       "         -1.7114102 , -1.7072582 , -1.6824813 , -1.65519204, -1.61606477,\n",
       "         -1.60882178, -1.55989289, -1.53211434, -1.50240525, -1.44519204,\n",
       "         -1.42574088, -1.39947965, -1.36823996, -1.35928128, -1.34361517,\n",
       "         -1.3049474 , -1.28643173, -1.27929137, -1.18485486, -1.11718215,\n",
       "         -1.11485486, -1.10431931, -1.06260042, -1.06240205, -1.04240525,\n",
       "         -1.0418697 , -1.01136393, -0.99027634, -0.92337053, -0.90565154,\n",
       "         -0.89649449, -0.88505003, -0.87070606, -0.86981683, -0.84715237,\n",
       "         -0.78073584, -0.76262011, -0.7374135 , -0.66903664, -0.6463259 ,\n",
       "         -0.63315566, -0.5798631 , -0.56174738, -0.55307961, -0.5509475 ,\n",
       "         -0.54799532, -0.54745657, -0.51353912, -0.51099377, -0.47627963,\n",
       "         -0.44497718, -0.42604508, -0.41977056, -0.4184846 , -0.32366144,\n",
       "         -0.25724491, -0.25503994, -0.24549944, -0.2009475 , -0.1435657 ,\n",
       "         -0.11303014, -0.09546646, -0.06947645, -0.05430282,  0.04955507,\n",
       "          0.06580621,  0.0767385 ,  0.12438144,  0.1372113 ,  0.1621302 ,\n",
       "          0.23825582,  0.2673666 ,  0.33895996,  0.36355178,  0.39655662,\n",
       "          0.41010711,  0.54725757,  0.57817657,  0.59032198,  0.68157816,\n",
       "          0.70189885,  0.70312525,  0.72001457,  0.78409053,  0.80880466,\n",
       "          0.83050706,  0.90347892,  0.91539298,  0.94019966,  0.95943595,\n",
       "          1.00096656,  1.004441  ,  1.00756817,  1.217674  ,  1.26052035,\n",
       "          1.28860949,  1.42076499,  1.44695337,  1.45568069,  1.5469071 ,\n",
       "          1.58868234,  1.62388896,  1.63471862,  1.67526746,  1.68329384,\n",
       "          1.68799469,  1.73689061,  1.79482445,  1.88071872,  1.92656991,\n",
       "          2.03124098,  2.07157816,  2.09732033,  2.18221954,  2.23745914,\n",
       "          2.26217327,  2.26923438,  2.49710547,  2.53901952,  2.87687731,\n",
       "          2.99871532,  3.05327735,  3.06811701,  3.1652079 ,  3.17245089,\n",
       "          3.28995501,  3.32840792,  3.58626571,  3.6772145 ,  4.24730704,\n",
       "          4.36523768])),\n",
       " (1.6969587695579047, -4.6257292615507456e-15, 0.9916516542061361))"
      ]
     },
     "execution_count": 17,
     "metadata": {},
     "output_type": "execute_result"
    },
    {
     "data": {
      "image/png": "[encoded data removed]",
      "text/plain": [
       "<Figure size 432x288 with 1 Axes>"
      ]
     },
     "metadata": {
      "needs_background": "light"
     },
     "output_type": "display_data"
    }
   ],
   "source": [
    "#Normality Plot\n",
    "import scipy\n",
    "\n",
    "scipy.stats.probplot(r_i, plot=plt)"
   ]
  },
  {
   "cell_type": "markdown",
   "id": "28933838",
   "metadata": {},
   "source": [
    "Residuals seems to be falling on the line."
   ]
  },
  {
   "cell_type": "code",
   "execution_count": 18,
   "id": "8f24d83a",
   "metadata": {},
   "outputs": [
    {
     "name": "stderr",
     "output_type": "stream",
     "text": [
      "C:\\Users\\DELL\\anaconda3\\lib\\site-packages\\seaborn\\distributions.py:2557: FutureWarning: `distplot` is a deprecated function and will be removed in a future version. Please adapt your code to use either `displot` (a figure-level function with similar flexibility) or `histplot` (an axes-level function for histograms).\n",
      "  warnings.warn(msg, FutureWarning)\n"
     ]
    },
    {
     "data": {
      "image/png": "[encoded data removed]",
      "text/plain": [
       "<Figure size 432x288 with 1 Axes>"
      ]
     },
     "metadata": {
      "needs_background": "light"
     },
     "output_type": "display_data"
    }
   ],
   "source": [
    "#Histograms of residuals\n",
    "import seaborn as sns\n",
    "fig = plt.figure()\n",
    "sns.distplot(r_i, bins = 15)\n",
    "plt.title('Error Terms')\n",
    "plt.xlabel('y_train - y_train_pred')\n",
    "plt.show()"
   ]
  },
  {
   "cell_type": "markdown",
   "id": "353c83a8",
   "metadata": {},
   "source": [
    "This almost equal to bell-curved shape distribution, if we get some more points we might have a perfect bell-curved shape. This means normality looks good and no-serious deviations from normality."
   ]
  },
  {
   "cell_type": "code",
   "execution_count": 19,
   "id": "0f2089e3",
   "metadata": {},
   "outputs": [
    {
     "data": {
      "text/plain": [
       "Text(0.5, 1.0, 'Residual Boxplot')"
      ]
     },
     "execution_count": 19,
     "metadata": {},
     "output_type": "execute_result"
    },
    {
     "data": {
      "image/png": "[encoded data removed]",
      "text/plain": [
       "<Figure size 432x288 with 1 Axes>"
      ]
     },
     "metadata": {
      "needs_background": "light"
     },
     "output_type": "display_data"
    }
   ],
   "source": [
    "#Assesing Outliers using box-plot\n",
    "\n",
    "plt.boxplot(r_i, boxprops=dict(color='red'))\n",
    "plt.title('Residual Boxplot')"
   ]
  },
  {
   "cell_type": "markdown",
   "id": "b44d44a4",
   "metadata": {},
   "source": [
    "This plot gives us the essence of how large our outliers are, we have some extreme values at 4 and -4, but there are not many of them. Generally ther residuals are close to zero and 1."
   ]
  },
  {
   "cell_type": "markdown",
   "id": "18bb087c",
   "metadata": {},
   "source": [
    "# Dealing with non-constant variance using transformations"
   ]
  },
  {
   "cell_type": "code",
   "execution_count": 20,
   "id": "408f7e76",
   "metadata": {},
   "outputs": [
    {
     "data": {
      "image/png": "[encoded data removed]",
      "text/plain": [
       "<Figure size 432x288 with 1 Axes>"
      ]
     },
     "metadata": {
      "needs_background": "light"
     },
     "output_type": "display_data"
    }
   ],
   "source": [
    "#Trying sqrt over response variable\n",
    "sqrt_y=np.sqrt(y)\n",
    "plt.scatter(x, sqrt_y,color='red');\n",
    "\n",
    "#Trying ln over response variable\n",
    "ln_y=np.log(y)\n",
    "plt.scatter(x, ln_y,color='blue');\n",
    "\n",
    "\n",
    "#Trying a BC transformation\n",
    "\n",
    "#Box Cox procedure on all cost\n",
    "from scipy import stats\n",
    "bc_y=list(stats.boxcox(y))\n",
    "bc_y=bc_y[0]\n",
    "plt.scatter(x, bc_y,color='orange');"
   ]
  },
  {
   "cell_type": "markdown",
   "id": "bbc613cb",
   "metadata": {},
   "source": [
    "# Running Regression on above transformations"
   ]
  },
  {
   "cell_type": "code",
   "execution_count": 21,
   "id": "9fd3031e",
   "metadata": {},
   "outputs": [
    {
     "data": {
      "text/html": [
       "<table class=\"simpletable\">\n",
       "<caption>OLS Regression Results</caption>\n",
       "<tr>\n",
       "  <th>Dep. Variable:</th>          <td>Score</td>      <th>  R-squared:         </th> <td>   0.895</td>\n",
       "</tr>\n",
       "<tr>\n",
       "  <th>Model:</th>                   <td>OLS</td>       <th>  Adj. R-squared:    </th> <td>   0.894</td>\n",
       "</tr>\n",
       "<tr>\n",
       "  <th>Method:</th>             <td>Least Squares</td>  <th>  F-statistic:       </th> <td>   1267.</td>\n",
       "</tr>\n",
       "<tr>\n",
       "  <th>Date:</th>             <td>Thu, 12 May 2022</td> <th>  Prob (F-statistic):</th> <td>9.72e-75</td>\n",
       "</tr>\n",
       "<tr>\n",
       "  <th>Time:</th>                 <td>12:14:29</td>     <th>  Log-Likelihood:    </th> <td> -17.200</td>\n",
       "</tr>\n",
       "<tr>\n",
       "  <th>No. Observations:</th>      <td>   151</td>      <th>  AIC:               </th> <td>   38.40</td>\n",
       "</tr>\n",
       "<tr>\n",
       "  <th>Df Residuals:</th>          <td>   149</td>      <th>  BIC:               </th> <td>   44.43</td>\n",
       "</tr>\n",
       "<tr>\n",
       "  <th>Df Model:</th>              <td>     1</td>      <th>                     </th>     <td> </td>   \n",
       "</tr>\n",
       "<tr>\n",
       "  <th>Covariance Type:</th>      <td>nonrobust</td>    <th>                     </th>     <td> </td>   \n",
       "</tr>\n",
       "</table>\n",
       "<table class=\"simpletable\">\n",
       "<tr>\n",
       "    <td></td>       <th>coef</th>     <th>std err</th>      <th>t</th>      <th>P>|t|</th>  <th>[0.025</th>    <th>0.975]</th>  \n",
       "</tr>\n",
       "<tr>\n",
       "  <th>const</th> <td>    1.9674</td> <td>    0.052</td> <td>   37.683</td> <td> 0.000</td> <td>    1.864</td> <td>    2.071</td>\n",
       "</tr>\n",
       "<tr>\n",
       "  <th>Cost</th>  <td>    0.0234</td> <td>    0.001</td> <td>   35.594</td> <td> 0.000</td> <td>    0.022</td> <td>    0.025</td>\n",
       "</tr>\n",
       "</table>\n",
       "<table class=\"simpletable\">\n",
       "<tr>\n",
       "  <th>Omnibus:</th>       <td> 1.648</td> <th>  Durbin-Watson:     </th> <td>   1.821</td>\n",
       "</tr>\n",
       "<tr>\n",
       "  <th>Prob(Omnibus):</th> <td> 0.439</td> <th>  Jarque-Bera (JB):  </th> <td>   1.360</td>\n",
       "</tr>\n",
       "<tr>\n",
       "  <th>Skew:</th>          <td> 0.032</td> <th>  Prob(JB):          </th> <td>   0.507</td>\n",
       "</tr>\n",
       "<tr>\n",
       "  <th>Kurtosis:</th>      <td> 2.539</td> <th>  Cond. No.          </th> <td>    186.</td>\n",
       "</tr>\n",
       "</table><br/><br/>Notes:<br/>[1] Standard Errors assume that the covariance matrix of the errors is correctly specified."
      ],
      "text/plain": [
       "<class 'statsmodels.iolib.summary.Summary'>\n",
       "\"\"\"\n",
       "                            OLS Regression Results                            \n",
       "==============================================================================\n",
       "Dep. Variable:                  Score   R-squared:                       0.895\n",
       "Model:                            OLS   Adj. R-squared:                  0.894\n",
       "Method:                 Least Squares   F-statistic:                     1267.\n",
       "Date:                Thu, 12 May 2022   Prob (F-statistic):           9.72e-75\n",
       "Time:                        12:14:29   Log-Likelihood:                -17.200\n",
       "No. Observations:                 151   AIC:                             38.40\n",
       "Df Residuals:                     149   BIC:                             44.43\n",
       "Df Model:                           1                                         \n",
       "Covariance Type:            nonrobust                                         \n",
       "==============================================================================\n",
       "                 coef    std err          t      P>|t|      [0.025      0.975]\n",
       "------------------------------------------------------------------------------\n",
       "const          1.9674      0.052     37.683      0.000       1.864       2.071\n",
       "Cost           0.0234      0.001     35.594      0.000       0.022       0.025\n",
       "==============================================================================\n",
       "Omnibus:                        1.648   Durbin-Watson:                   1.821\n",
       "Prob(Omnibus):                  0.439   Jarque-Bera (JB):                1.360\n",
       "Skew:                           0.032   Prob(JB):                        0.507\n",
       "Kurtosis:                       2.539   Cond. No.                         186.\n",
       "==============================================================================\n",
       "\n",
       "Notes:\n",
       "[1] Standard Errors assume that the covariance matrix of the errors is correctly specified.\n",
       "\"\"\""
      ]
     },
     "execution_count": 21,
     "metadata": {},
     "output_type": "execute_result"
    }
   ],
   "source": [
    "#Regression on square root transformation\n",
    "\n",
    "x_train, x_test, y_train, y_test = train_test_split(x, sqrt_y, train_size = 0.75, test_size = 0.25, random_state = 100)\n",
    "\n",
    "#force intercept term\n",
    "x_train_with_intercept = sm.add_constant(x_train)\n",
    "lr2 = sm.OLS(y_train, x_train_with_intercept).fit()\n",
    "lr2.summary()"
   ]
  },
  {
   "cell_type": "markdown",
   "id": "dcc00320",
   "metadata": {},
   "source": [
    "We get little less value of R-squared and we loose some of the predictability power. "
   ]
  },
  {
   "cell_type": "code",
   "execution_count": 22,
   "id": "3b388d74",
   "metadata": {},
   "outputs": [
    {
     "name": "stdout",
     "output_type": "stream",
     "text": [
      "const    1.967367\n",
      "Cost     0.023433\n",
      "dtype: float64\n"
     ]
    },
    {
     "data": {
      "image/png": "[encoded data removed]",
      "text/plain": [
       "<Figure size 432x288 with 1 Axes>"
      ]
     },
     "metadata": {
      "needs_background": "light"
     },
     "output_type": "display_data"
    }
   ],
   "source": [
    "#Extract the B0, B1\n",
    "print(lr2.params)\n",
    "b0=lr2.params[0]\n",
    "b1=lr2.params[1]\n",
    "\n",
    "#Plot the fitted line on training data\n",
    "plt.scatter(x_train, y_train)\n",
    "plt.plot(x_train, b0+ b1*x_train, 'r')\n",
    "plt.show()"
   ]
  },
  {
   "cell_type": "code",
   "execution_count": 23,
   "id": "23e2f040",
   "metadata": {
    "scrolled": false
   },
   "outputs": [
    {
     "data": {
      "image/png": "[encoded data removed]",
      "text/plain": [
       "<Figure size 432x288 with 1 Axes>"
      ]
     },
     "metadata": {
      "needs_background": "light"
     },
     "output_type": "display_data"
    },
    {
     "data": {
      "image/png": "[encoded data removed]",
      "text/plain": [
       "<Figure size 432x288 with 1 Axes>"
      ]
     },
     "metadata": {
      "needs_background": "light"
     },
     "output_type": "display_data"
    },
    {
     "name": "stdout",
     "output_type": "stream",
     "text": [
      "140   -0.304735\n",
      "101   -0.175596\n",
      "31     0.335437\n",
      "88     0.224866\n",
      "183   -0.065908\n",
      "133   -0.182004\n",
      "169   -0.217869\n",
      "127   -0.338285\n",
      "195   -0.068392\n",
      "174   -0.136069\n",
      "154   -0.258639\n",
      "179    0.017436\n",
      "128   -0.212356\n",
      "46     0.266578\n",
      "125   -0.209648\n",
      "65     0.244769\n",
      "164   -0.136659\n",
      "120    0.055093\n",
      "177   -0.454514\n",
      "104   -0.297254\n",
      "119    0.049264\n",
      "77     0.469959\n",
      "96     0.200761\n",
      "156   -0.195819\n",
      "81     0.072857\n",
      "11     0.485016\n",
      "73     0.040705\n",
      "75     0.081363\n",
      "15     0.144738\n",
      "153   -0.241312\n",
      "110   -0.280729\n",
      "99     0.321201\n",
      "122   -0.401116\n",
      "157   -0.077395\n",
      "41     0.144975\n",
      "85     0.240296\n",
      "59     0.139915\n",
      "160   -0.067626\n",
      "175   -0.138702\n",
      "3     -0.065178\n",
      "165    0.074747\n",
      "196   -0.117905\n",
      "32     0.334955\n",
      "64     0.133593\n",
      "26     0.297461\n",
      "197   -0.108426\n",
      "115   -0.052018\n",
      "170   -0.194253\n",
      "161   -0.138187\n",
      "118   -0.002582\n",
      "7      0.474548\n",
      "dtype: float64\n"
     ]
    }
   ],
   "source": [
    "#Plot the fitted line on test data\n",
    "\n",
    "x_test_with_intercept = sm.add_constant(x_test)\n",
    "y_test_fitted = lr2.predict(x_test_with_intercept)\n",
    "\n",
    "\n",
    "plt.scatter(x_test, y_test)\n",
    "plt.plot(x_test, y_test_fitted, 'r')\n",
    "plt.show()\n",
    "\n",
    "#Evaluate variance\n",
    "#Diagnostics\n",
    "test_residuals=(y_test-y_test_fitted)\n",
    "len(y_test)\n",
    "len(y_test_fitted)\n",
    "len(test_residuals)\n",
    "\n",
    "#Residuals vs. predictor\n",
    "plt.title('Residuals vs. Cost')\n",
    "plt.xlabel('Cost',fontsize=15)\n",
    "plt.scatter(x_test, test_residuals)\n",
    "plt.show()\n",
    "\n",
    "print(test_residuals)"
   ]
  },
  {
   "cell_type": "markdown",
   "id": "48c4a149",
   "metadata": {},
   "source": [
    "In return of loosing R-squared power, we see far less evidence of non-constant varaince."
   ]
  },
  {
   "cell_type": "markdown",
   "id": "91a65d13",
   "metadata": {},
   "source": [
    "# ANOVA Table"
   ]
  },
  {
   "cell_type": "code",
   "execution_count": 24,
   "id": "4b9b4b8a",
   "metadata": {},
   "outputs": [
    {
     "data": {
      "text/html": [
       "<div>\n",
       "<style scoped>\n",
       "    .dataframe tbody tr th:only-of-type {\n",
       "        vertical-align: middle;\n",
       "    }\n",
       "\n",
       "    .dataframe tbody tr th {\n",
       "        vertical-align: top;\n",
       "    }\n",
       "\n",
       "    .dataframe thead th {\n",
       "        text-align: right;\n",
       "    }\n",
       "</style>\n",
       "<table border=\"1\" class=\"dataframe\">\n",
       "  <thead>\n",
       "    <tr style=\"text-align: right;\">\n",
       "      <th></th>\n",
       "      <th>Cost</th>\n",
       "      <th>Score</th>\n",
       "    </tr>\n",
       "  </thead>\n",
       "  <tbody>\n",
       "    <tr>\n",
       "      <th>0</th>\n",
       "      <td>109.1</td>\n",
       "      <td>19.75</td>\n",
       "    </tr>\n",
       "    <tr>\n",
       "      <th>1</th>\n",
       "      <td>102.8</td>\n",
       "      <td>21.30</td>\n",
       "    </tr>\n",
       "    <tr>\n",
       "      <th>2</th>\n",
       "      <td>104.6</td>\n",
       "      <td>19.88</td>\n",
       "    </tr>\n",
       "    <tr>\n",
       "      <th>3</th>\n",
       "      <td>126.4</td>\n",
       "      <td>23.66</td>\n",
       "    </tr>\n",
       "    <tr>\n",
       "      <th>4</th>\n",
       "      <td>80.3</td>\n",
       "      <td>17.64</td>\n",
       "    </tr>\n",
       "    <tr>\n",
       "      <th>...</th>\n",
       "      <td>...</td>\n",
       "      <td>...</td>\n",
       "    </tr>\n",
       "    <tr>\n",
       "      <th>197</th>\n",
       "      <td>67.2</td>\n",
       "      <td>11.79</td>\n",
       "    </tr>\n",
       "    <tr>\n",
       "      <th>198</th>\n",
       "      <td>56.5</td>\n",
       "      <td>10.05</td>\n",
       "    </tr>\n",
       "    <tr>\n",
       "      <th>199</th>\n",
       "      <td>47.6</td>\n",
       "      <td>8.51</td>\n",
       "    </tr>\n",
       "    <tr>\n",
       "      <th>200</th>\n",
       "      <td>60.4</td>\n",
       "      <td>11.50</td>\n",
       "    </tr>\n",
       "    <tr>\n",
       "      <th>201</th>\n",
       "      <td>34.9</td>\n",
       "      <td>6.26</td>\n",
       "    </tr>\n",
       "  </tbody>\n",
       "</table>\n",
       "<p>202 rows × 2 columns</p>\n",
       "</div>"
      ],
      "text/plain": [
       "      Cost  Score\n",
       "0    109.1  19.75\n",
       "1    102.8  21.30\n",
       "2    104.6  19.88\n",
       "3    126.4  23.66\n",
       "4     80.3  17.64\n",
       "..     ...    ...\n",
       "197   67.2  11.79\n",
       "198   56.5  10.05\n",
       "199   47.6   8.51\n",
       "200   60.4  11.50\n",
       "201   34.9   6.26\n",
       "\n",
       "[202 rows x 2 columns]"
      ]
     },
     "execution_count": 24,
     "metadata": {},
     "output_type": "execute_result"
    }
   ],
   "source": [
    "data = df[['Cost', 'Score']]\n",
    "data"
   ]
  },
  {
   "cell_type": "code",
   "execution_count": 25,
   "id": "e96837fa",
   "metadata": {},
   "outputs": [],
   "source": [
    "mod = ols('Score ~ 1', data=data).fit()"
   ]
  },
  {
   "cell_type": "code",
   "execution_count": 26,
   "id": "cd8b1d48",
   "metadata": {},
   "outputs": [
    {
     "data": {
      "text/html": [
       "<div>\n",
       "<style scoped>\n",
       "    .dataframe tbody tr th:only-of-type {\n",
       "        vertical-align: middle;\n",
       "    }\n",
       "\n",
       "    .dataframe tbody tr th {\n",
       "        vertical-align: top;\n",
       "    }\n",
       "\n",
       "    .dataframe thead th {\n",
       "        text-align: right;\n",
       "    }\n",
       "</style>\n",
       "<table border=\"1\" class=\"dataframe\">\n",
       "  <thead>\n",
       "    <tr style=\"text-align: right;\">\n",
       "      <th></th>\n",
       "      <th>sum_sq</th>\n",
       "      <th>df</th>\n",
       "      <th>F</th>\n",
       "      <th>PR(&gt;F)</th>\n",
       "    </tr>\n",
       "  </thead>\n",
       "  <tbody>\n",
       "    <tr>\n",
       "      <th>Intercept</th>\n",
       "      <td>36855.011139</td>\n",
       "      <td>1.0</td>\n",
       "      <td>961.921582</td>\n",
       "      <td>1.492612e-78</td>\n",
       "    </tr>\n",
       "    <tr>\n",
       "      <th>Residual</th>\n",
       "      <td>7701.103061</td>\n",
       "      <td>201.0</td>\n",
       "      <td>NaN</td>\n",
       "      <td>NaN</td>\n",
       "    </tr>\n",
       "  </tbody>\n",
       "</table>\n",
       "</div>"
      ],
      "text/plain": [
       "                 sum_sq     df           F        PR(>F)\n",
       "Intercept  36855.011139    1.0  961.921582  1.492612e-78\n",
       "Residual    7701.103061  201.0         NaN           NaN"
      ]
     },
     "execution_count": 26,
     "metadata": {},
     "output_type": "execute_result"
    }
   ],
   "source": [
    "aov_table = sm.stats.anova_lm(mod, test=\"F\", typ='III')\n",
    "aov_table"
   ]
  },
  {
   "cell_type": "markdown",
   "id": "066c3982",
   "metadata": {},
   "source": [
    "# Analyzing the relation between BMI and Weight as they are highly correlated"
   ]
  },
  {
   "cell_type": "code",
   "execution_count": 27,
   "id": "0370e238",
   "metadata": {},
   "outputs": [
    {
     "data": {
      "image/png": "[encoded data removed]",
      "text/plain": [
       "<Figure size 432x288 with 1 Axes>"
      ]
     },
     "metadata": {
      "needs_background": "light"
     },
     "output_type": "display_data"
    }
   ],
   "source": [
    "plt.scatter(df['Weight'], df['BMI']); #This gives the scatter plot of cost and score\n",
    "plt.xlabel('Weight');\n",
    "plt.ylabel('BMI');\n",
    "plt.title('Weight V/S BMI');\n",
    "plt.show();"
   ]
  },
  {
   "cell_type": "markdown",
   "id": "92369b56",
   "metadata": {},
   "source": [
    "This plot shows that BMI and weight are somewhat related as shown in the correlation matrix. The variance increases a little as BMI and weight increases. Also, there is not much of non-constant variance. Hence, we're good to go with regression model."
   ]
  },
  {
   "cell_type": "code",
   "execution_count": 28,
   "id": "5cecba1e",
   "metadata": {},
   "outputs": [],
   "source": [
    "#Assigning x values as BMI data points and y as weight data points\n",
    "x1 = df['Weight'];\n",
    "y1 = df['BMI'];"
   ]
  },
  {
   "cell_type": "code",
   "execution_count": 29,
   "id": "516bd090",
   "metadata": {},
   "outputs": [],
   "source": [
    "#Dividing the x1 and y1 sets in train and test sets\n",
    "x1_train, x1_test, y1_train, y1_test = train_test_split(x1, y1, train_size = 0.75, test_size = 0.25, random_state = 100);"
   ]
  },
  {
   "cell_type": "code",
   "execution_count": 30,
   "id": "1e797a42",
   "metadata": {},
   "outputs": [
    {
     "data": {
      "text/html": [
       "<table class=\"simpletable\">\n",
       "<caption>OLS Regression Results</caption>\n",
       "<tr>\n",
       "  <th>Dep. Variable:</th>           <td>BMI</td>       <th>  R-squared:         </th> <td>   0.698</td>\n",
       "</tr>\n",
       "<tr>\n",
       "  <th>Model:</th>                   <td>OLS</td>       <th>  Adj. R-squared:    </th> <td>   0.696</td>\n",
       "</tr>\n",
       "<tr>\n",
       "  <th>Method:</th>             <td>Least Squares</td>  <th>  F-statistic:       </th> <td>   343.8</td>\n",
       "</tr>\n",
       "<tr>\n",
       "  <th>Date:</th>             <td>Thu, 12 May 2022</td> <th>  Prob (F-statistic):</th> <td>1.56e-40</td>\n",
       "</tr>\n",
       "<tr>\n",
       "  <th>Time:</th>                 <td>12:14:31</td>     <th>  Log-Likelihood:    </th> <td> -277.94</td>\n",
       "</tr>\n",
       "<tr>\n",
       "  <th>No. Observations:</th>      <td>   151</td>      <th>  AIC:               </th> <td>   559.9</td>\n",
       "</tr>\n",
       "<tr>\n",
       "  <th>Df Residuals:</th>          <td>   149</td>      <th>  BIC:               </th> <td>   565.9</td>\n",
       "</tr>\n",
       "<tr>\n",
       "  <th>Df Model:</th>              <td>     1</td>      <th>                     </th>     <td> </td>   \n",
       "</tr>\n",
       "<tr>\n",
       "  <th>Covariance Type:</th>      <td>nonrobust</td>    <th>                     </th>     <td> </td>   \n",
       "</tr>\n",
       "</table>\n",
       "<table class=\"simpletable\">\n",
       "<tr>\n",
       "     <td></td>       <th>coef</th>     <th>std err</th>      <th>t</th>      <th>P>|t|</th>  <th>[0.025</th>    <th>0.975]</th>  \n",
       "</tr>\n",
       "<tr>\n",
       "  <th>const</th>  <td>   10.0050</td> <td>    0.713</td> <td>   14.037</td> <td> 0.000</td> <td>    8.597</td> <td>   11.413</td>\n",
       "</tr>\n",
       "<tr>\n",
       "  <th>Weight</th> <td>    0.1729</td> <td>    0.009</td> <td>   18.541</td> <td> 0.000</td> <td>    0.155</td> <td>    0.191</td>\n",
       "</tr>\n",
       "</table>\n",
       "<table class=\"simpletable\">\n",
       "<tr>\n",
       "  <th>Omnibus:</th>       <td> 6.660</td> <th>  Durbin-Watson:     </th> <td>   2.005</td>\n",
       "</tr>\n",
       "<tr>\n",
       "  <th>Prob(Omnibus):</th> <td> 0.036</td> <th>  Jarque-Bera (JB):  </th> <td>   6.309</td>\n",
       "</tr>\n",
       "<tr>\n",
       "  <th>Skew:</th>          <td> 0.434</td> <th>  Prob(JB):          </th> <td>  0.0427</td>\n",
       "</tr>\n",
       "<tr>\n",
       "  <th>Kurtosis:</th>      <td> 3.501</td> <th>  Cond. No.          </th> <td>    436.</td>\n",
       "</tr>\n",
       "</table><br/><br/>Notes:<br/>[1] Standard Errors assume that the covariance matrix of the errors is correctly specified."
      ],
      "text/plain": [
       "<class 'statsmodels.iolib.summary.Summary'>\n",
       "\"\"\"\n",
       "                            OLS Regression Results                            \n",
       "==============================================================================\n",
       "Dep. Variable:                    BMI   R-squared:                       0.698\n",
       "Model:                            OLS   Adj. R-squared:                  0.696\n",
       "Method:                 Least Squares   F-statistic:                     343.8\n",
       "Date:                Thu, 12 May 2022   Prob (F-statistic):           1.56e-40\n",
       "Time:                        12:14:31   Log-Likelihood:                -277.94\n",
       "No. Observations:                 151   AIC:                             559.9\n",
       "Df Residuals:                     149   BIC:                             565.9\n",
       "Df Model:                           1                                         \n",
       "Covariance Type:            nonrobust                                         \n",
       "==============================================================================\n",
       "                 coef    std err          t      P>|t|      [0.025      0.975]\n",
       "------------------------------------------------------------------------------\n",
       "const         10.0050      0.713     14.037      0.000       8.597      11.413\n",
       "Weight         0.1729      0.009     18.541      0.000       0.155       0.191\n",
       "==============================================================================\n",
       "Omnibus:                        6.660   Durbin-Watson:                   2.005\n",
       "Prob(Omnibus):                  0.036   Jarque-Bera (JB):                6.309\n",
       "Skew:                           0.434   Prob(JB):                       0.0427\n",
       "Kurtosis:                       3.501   Cond. No.                         436.\n",
       "==============================================================================\n",
       "\n",
       "Notes:\n",
       "[1] Standard Errors assume that the covariance matrix of the errors is correctly specified.\n",
       "\"\"\""
      ]
     },
     "execution_count": 30,
     "metadata": {},
     "output_type": "execute_result"
    }
   ],
   "source": [
    "#Forced intercept term to get beta0 or else we were doing beta1*X\n",
    "x1_train_with_intercept = sm.add_constant(x1_train); #this line adds the constant term to the equation,i.e. beta0 for all points\n",
    "lr3 = sm.OLS(y1_train, x1_train_with_intercept).fit();\n",
    "lr3.summary()"
   ]
  },
  {
   "cell_type": "markdown",
   "id": "497fee25",
   "metadata": {},
   "source": [
    "This summary say that our equation of BMI is as follows:\n",
    "\n",
    "BMI = beta0 + beta1 * weight\n",
    "\n",
    "BMI = 10.0050 + 0.1729 * weight\n",
    "\n",
    "So, if we increase our weight by 1 unit we can expect 0.1729 increase in BMI."
   ]
  },
  {
   "cell_type": "markdown",
   "id": "e2a2ed40",
   "metadata": {},
   "source": [
    "In the statistics calculated above, we can see that our R-squared value is 69.6%, that means our model captures 69.6% of variance. The key value for F-statistic, i.e. Prob(F-statistic) is very small, that means our null hypothesis is not true, i.e. slope is not zero and it is extremely unlikely that our model is not good. The T-statistic value is also very low, so null hypothesis does not stand here."
   ]
  },
  {
   "cell_type": "code",
   "execution_count": 31,
   "id": "796f56eb",
   "metadata": {},
   "outputs": [
    {
     "name": "stdout",
     "output_type": "stream",
     "text": [
      "10.005031327761753 0.17294929921544933\n"
     ]
    }
   ],
   "source": [
    "#Extracting the params beta0 and beta1\n",
    "\n",
    "lr3.params\n",
    "\n",
    "#We can also extract using below code\n",
    "\n",
    "b2 = lr3.params[0]\n",
    "b3 = lr3.params[1]\n",
    "print(b2,b3)"
   ]
  },
  {
   "cell_type": "code",
   "execution_count": 32,
   "id": "21bbf67d",
   "metadata": {},
   "outputs": [
    {
     "data": {
      "image/png": "[encoded data removed]",
      "text/plain": [
       "<Figure size 432x288 with 1 Axes>"
      ]
     },
     "metadata": {
      "needs_background": "light"
     },
     "output_type": "display_data"
    }
   ],
   "source": [
    "#Plotting the fitted line of training data\n",
    "\n",
    "plt.scatter(x1_train, y1_train)\n",
    "plt.plot(x1_train, b2+b3*x1_train, 'r')\n",
    "plt.xlabel('Weight');\n",
    "plt.ylabel('BMI');\n",
    "plt.title('Training Data: Weight V/S BMI');\n",
    "plt.show()"
   ]
  },
  {
   "cell_type": "markdown",
   "id": "8909740d",
   "metadata": {},
   "source": [
    "The model looks reasonable upto the weight value 100, but beyond that it doesn't looks good. Seems like player with more weight are having higher BMI indexes which they shouldn't have. But, this can also be there because of the another variable affecting BMI which is height."
   ]
  },
  {
   "cell_type": "code",
   "execution_count": 33,
   "id": "e61cbe38",
   "metadata": {},
   "outputs": [
    {
     "data": {
      "image/png": "[encoded data removed]",
      "text/plain": [
       "<Figure size 432x288 with 1 Axes>"
      ]
     },
     "metadata": {
      "needs_background": "light"
     },
     "output_type": "display_data"
    }
   ],
   "source": [
    "#Assessing Non-Linearity - we fit our predicted values againt fitting data\n",
    "\n",
    "pred_y1 = lr3.predict(x1_train_with_intercept)\n",
    "\n",
    "#Finding residuals\n",
    "r_i1 = (y1_train - pred_y1)\n",
    "\n",
    "#Residual v/s cost plot\n",
    "plt.title('Residuals V/S Weight')\n",
    "plt.xlabel('Weight')\n",
    "plt.scatter(x1_train, r_i1)\n",
    "plt.show()"
   ]
  },
  {
   "cell_type": "markdown",
   "id": "94174ff4",
   "metadata": {},
   "source": [
    "This plot shows that we're potentially suffering from non-constant variance, i.e. the problem of heteroskedasticity. Hence, we will do some transformation and try to remove the non-constant variance."
   ]
  },
  {
   "cell_type": "code",
   "execution_count": 34,
   "id": "ed3aa5b3",
   "metadata": {},
   "outputs": [
    {
     "data": {
      "image/png": "[encoded data removed]",
      "text/plain": [
       "<Figure size 432x288 with 1 Axes>"
      ]
     },
     "metadata": {
      "needs_background": "light"
     },
     "output_type": "display_data"
    }
   ],
   "source": [
    "#Trying a BC transformation\n",
    "\n",
    "#Box Cox procedure on all cost\n",
    "from scipy import stats\n",
    "bc_y1=list(stats.boxcox(y1))\n",
    "bc_y1=bc_y1[0]\n",
    "plt.scatter(x1, bc_y1, color='orange');"
   ]
  },
  {
   "cell_type": "code",
   "execution_count": 35,
   "id": "59a9dd30",
   "metadata": {},
   "outputs": [
    {
     "data": {
      "text/html": [
       "<table class=\"simpletable\">\n",
       "<caption>OLS Regression Results</caption>\n",
       "<tr>\n",
       "  <th>Dep. Variable:</th>            <td>y</td>        <th>  R-squared:         </th> <td>   0.708</td>\n",
       "</tr>\n",
       "<tr>\n",
       "  <th>Model:</th>                   <td>OLS</td>       <th>  Adj. R-squared:    </th> <td>   0.706</td>\n",
       "</tr>\n",
       "<tr>\n",
       "  <th>Method:</th>             <td>Least Squares</td>  <th>  F-statistic:       </th> <td>   360.7</td>\n",
       "</tr>\n",
       "<tr>\n",
       "  <th>Date:</th>             <td>Thu, 12 May 2022</td> <th>  Prob (F-statistic):</th> <td>1.24e-41</td>\n",
       "</tr>\n",
       "<tr>\n",
       "  <th>Time:</th>                 <td>12:14:32</td>     <th>  Log-Likelihood:    </th> <td>  616.01</td>\n",
       "</tr>\n",
       "<tr>\n",
       "  <th>No. Observations:</th>      <td>   151</td>      <th>  AIC:               </th> <td>  -1228.</td>\n",
       "</tr>\n",
       "<tr>\n",
       "  <th>Df Residuals:</th>          <td>   149</td>      <th>  BIC:               </th> <td>  -1222.</td>\n",
       "</tr>\n",
       "<tr>\n",
       "  <th>Df Model:</th>              <td>     1</td>      <th>                     </th>     <td> </td>   \n",
       "</tr>\n",
       "<tr>\n",
       "  <th>Covariance Type:</th>      <td>nonrobust</td>    <th>                     </th>     <td> </td>   \n",
       "</tr>\n",
       "</table>\n",
       "<table class=\"simpletable\">\n",
       "<tr>\n",
       "     <td></td>       <th>coef</th>     <th>std err</th>      <th>t</th>      <th>P>|t|</th>  <th>[0.025</th>    <th>0.975]</th>  \n",
       "</tr>\n",
       "<tr>\n",
       "  <th>const</th>  <td>    1.0372</td> <td>    0.002</td> <td>  542.063</td> <td> 0.000</td> <td>    1.033</td> <td>    1.041</td>\n",
       "</tr>\n",
       "<tr>\n",
       "  <th>Weight</th> <td>    0.0005</td> <td>  2.5e-05</td> <td>   18.993</td> <td> 0.000</td> <td>    0.000</td> <td>    0.001</td>\n",
       "</tr>\n",
       "</table>\n",
       "<table class=\"simpletable\">\n",
       "<tr>\n",
       "  <th>Omnibus:</th>       <td> 1.333</td> <th>  Durbin-Watson:     </th> <td>   1.947</td>\n",
       "</tr>\n",
       "<tr>\n",
       "  <th>Prob(Omnibus):</th> <td> 0.514</td> <th>  Jarque-Bera (JB):  </th> <td>   1.181</td>\n",
       "</tr>\n",
       "<tr>\n",
       "  <th>Skew:</th>          <td>-0.022</td> <th>  Prob(JB):          </th> <td>   0.554</td>\n",
       "</tr>\n",
       "<tr>\n",
       "  <th>Kurtosis:</th>      <td> 2.569</td> <th>  Cond. No.          </th> <td>    436.</td>\n",
       "</tr>\n",
       "</table><br/><br/>Notes:<br/>[1] Standard Errors assume that the covariance matrix of the errors is correctly specified."
      ],
      "text/plain": [
       "<class 'statsmodels.iolib.summary.Summary'>\n",
       "\"\"\"\n",
       "                            OLS Regression Results                            \n",
       "==============================================================================\n",
       "Dep. Variable:                      y   R-squared:                       0.708\n",
       "Model:                            OLS   Adj. R-squared:                  0.706\n",
       "Method:                 Least Squares   F-statistic:                     360.7\n",
       "Date:                Thu, 12 May 2022   Prob (F-statistic):           1.24e-41\n",
       "Time:                        12:14:32   Log-Likelihood:                 616.01\n",
       "No. Observations:                 151   AIC:                            -1228.\n",
       "Df Residuals:                     149   BIC:                            -1222.\n",
       "Df Model:                           1                                         \n",
       "Covariance Type:            nonrobust                                         \n",
       "==============================================================================\n",
       "                 coef    std err          t      P>|t|      [0.025      0.975]\n",
       "------------------------------------------------------------------------------\n",
       "const          1.0372      0.002    542.063      0.000       1.033       1.041\n",
       "Weight         0.0005    2.5e-05     18.993      0.000       0.000       0.001\n",
       "==============================================================================\n",
       "Omnibus:                        1.333   Durbin-Watson:                   1.947\n",
       "Prob(Omnibus):                  0.514   Jarque-Bera (JB):                1.181\n",
       "Skew:                          -0.022   Prob(JB):                        0.554\n",
       "Kurtosis:                       2.569   Cond. No.                         436.\n",
       "==============================================================================\n",
       "\n",
       "Notes:\n",
       "[1] Standard Errors assume that the covariance matrix of the errors is correctly specified.\n",
       "\"\"\""
      ]
     },
     "execution_count": 35,
     "metadata": {},
     "output_type": "execute_result"
    }
   ],
   "source": [
    "#Regression on BC transformation\n",
    "\n",
    "x1_train, x1_test, y1_train, y1_test = train_test_split(x1, bc_y1, train_size = 0.75, test_size = 0.25, random_state = 100)\n",
    "\n",
    "#force intercept term\n",
    "x1_train_with_intercept = sm.add_constant(x1_train)\n",
    "lr4 = sm.OLS(y1_train, x1_train_with_intercept).fit()\n",
    "lr4.summary()"
   ]
  },
  {
   "cell_type": "markdown",
   "id": "4e975729",
   "metadata": {},
   "source": [
    "We can see that using BC transformation method our R-squared values is increased from 69.6% to 70.8%. This is a good result. Also, our F-statistic and T-statistic tests stands the same. That means null hypothesis is rejected and the slope, i.e. beta1 is non-zero."
   ]
  },
  {
   "cell_type": "code",
   "execution_count": 36,
   "id": "f7dd3fa3",
   "metadata": {},
   "outputs": [
    {
     "name": "stdout",
     "output_type": "stream",
     "text": [
      "const     1.037235\n",
      "Weight    0.000476\n",
      "dtype: float64\n"
     ]
    },
    {
     "data": {
      "image/png": "[encoded data removed]",
      "text/plain": [
       "<Figure size 432x288 with 1 Axes>"
      ]
     },
     "metadata": {
      "needs_background": "light"
     },
     "output_type": "display_data"
    }
   ],
   "source": [
    "#Extract the B0, B1\n",
    "print(lr4.params)\n",
    "b5=lr4.params[0]\n",
    "b6=lr4.params[1]\n",
    "\n",
    "#Plot the fitted line on training data\n",
    "plt.scatter(x1_train, y1_train)\n",
    "plt.plot(x1_train, b5+ b6*x1_train, 'r')\n",
    "plt.show()"
   ]
  },
  {
   "cell_type": "code",
   "execution_count": 37,
   "id": "bc12a738",
   "metadata": {},
   "outputs": [
    {
     "data": {
      "image/png": "[encoded data removed]",
      "text/plain": [
       "<Figure size 432x288 with 1 Axes>"
      ]
     },
     "metadata": {
      "needs_background": "light"
     },
     "output_type": "display_data"
    },
    {
     "data": {
      "image/png": "[encoded data removed]",
      "text/plain": [
       "<Figure size 432x288 with 1 Axes>"
      ]
     },
     "metadata": {
      "needs_background": "light"
     },
     "output_type": "display_data"
    }
   ],
   "source": [
    "#Plot the fitted line on test data\n",
    "\n",
    "x1_test_with_intercept = sm.add_constant(x1_test)\n",
    "y1_test_fitted = lr4.predict(x1_test_with_intercept)\n",
    "\n",
    "\n",
    "plt.scatter(x1_test, y1_test)\n",
    "plt.plot(x1_test, y1_test_fitted, 'r')\n",
    "plt.title('Testing Data Plot')\n",
    "plt.show()\n",
    "\n",
    "#Evaluate variance\n",
    "#Diagnostics\n",
    "test_residuals1=(y1_test-y1_test_fitted)\n",
    "len(y1_test)\n",
    "len(y1_test_fitted)\n",
    "len(test_residuals1)\n",
    "\n",
    "#Residuals vs. predictor\n",
    "plt.title('Residuals vs. Weight')\n",
    "plt.xlabel('Weight',fontsize=15)\n",
    "plt.scatter(x1_test, test_residuals1)\n",
    "plt.show()"
   ]
  },
  {
   "cell_type": "markdown",
   "id": "b7107c45",
   "metadata": {},
   "source": [
    "Now we don't have non-constant variance and also a good R-squared value than the earlier one. The test set is also fitting almost perfectly with the best fit line generated by the model."
   ]
  }
 ],
 "metadata": {
  "kernelspec": {
   "display_name": "Python 3",
   "language": "python",
   "name": "python3"
  },
  "language_info": {
   "codemirror_mode": {
    "name": "ipython",
    "version": 3
   },
   "file_extension": ".py",
   "mimetype": "text/x-python",
   "name": "python",
   "nbconvert_exporter": "python",
   "pygments_lexer": "ipython3",
   "version": "3.8.8"
  }
 },
 "nbformat": 4,
 "nbformat_minor": 5
}
